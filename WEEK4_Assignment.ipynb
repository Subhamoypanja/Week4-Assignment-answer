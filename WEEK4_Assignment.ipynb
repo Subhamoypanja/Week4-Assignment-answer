{
  "nbformat": 4,
  "nbformat_minor": 0,
  "metadata": {
    "colab": {
      "name": "WEEK4 Assignment.ipynb",
      "provenance": [],
      "collapsed_sections": [],
      "authorship_tag": "ABX9TyN9bnJuoiCX/gLVT3KTY+Lh",
      "include_colab_link": true
    },
    "kernelspec": {
      "name": "python3",
      "display_name": "Python 3"
    },
    "language_info": {
      "name": "python"
    }
  },
  "cells": [
    {
      "cell_type": "markdown",
      "metadata": {
        "id": "view-in-github",
        "colab_type": "text"
      },
      "source": [
        "<a href=\"https://colab.research.google.com/github/Subhamoypanja/Week4-Assignment-answer/blob/main/WEEK4_Assignment.ipynb\" target=\"_parent\"><img src=\"https://colab.research.google.com/assets/colab-badge.svg\" alt=\"Open In Colab\"/></a>"
      ]
    },
    {
      "cell_type": "markdown",
      "source": [
        "##WEEK4:Assignment\n"
      ],
      "metadata": {
        "id": "hJmz7bgOQYA-"
      }
    },
    {
      "cell_type": "markdown",
      "source": [
        "Q1.TEAM ASSESMENTS\n",
        "\n",
        "The Team Leader of Testing team of XYZ company decided to assess the team members by organising a programming event. So he gave the team a task.\n",
        "The task is given an array of size N, find the number of distinct elements in the array and print them in ascending order. Those members who answer, will get some reward.\n",
        "Write a program to help the Team Leader to evaluate the solutions of the team members.\n",
        "\n",
        "Input format:\n",
        "The first line contains a single integer that denotes the size of the array, N.\n",
        "The second line contains N space separated integer values of the array.\n",
        "\n",
        "Output format:\n",
        "The first line is an integer that denotes the number of the distinct elements i nthe array.\n",
        "The second line is a series of integers seperated by space that denotes the distinct elements.\n",
        "\n",
        "Sample Input 1:\n",
        "\n",
        "5\n",
        "\n",
        "1 2 1 2 1\n",
        "\n",
        "Sample Output 1:\n",
        "\n",
        "2\n",
        "\n",
        "1 2\n",
        "\n",
        "Sample Input 2:\n",
        "\n",
        "5\n",
        "\n",
        "145 25 21 25 36\n",
        "\n",
        "Sample Output 2:\n",
        "\n",
        "4\n",
        "\n",
        "21 25 36 145\n"
      ],
      "metadata": {
        "id": "Vy4OaipbQiZz"
      }
    },
    {
      "cell_type": "code",
      "execution_count": null,
      "metadata": {
        "id": "pLMdOEidNNyQ",
        "colab": {
          "base_uri": "https://localhost:8080/"
        },
        "outputId": "5d55c563-ddee-4bca-df3c-b921dff99cab"
      },
      "outputs": [
        {
          "output_type": "stream",
          "name": "stdout",
          "text": [
            "enter number of elements :5\n",
            "\n",
            "enter the numbers :1 2 1 2 1\n",
            "2\n",
            "1 2 "
          ]
        }
      ],
      "source": [
        "n=int(input(\"enter number of elements :\"))\n",
        "list1=list(map(int,input(\"\\nenter the numbers :\").split()))\n",
        "set1=set(list1)\n",
        "list2=list(map(int,set1))\n",
        "list2.sort()\n",
        "print(len(list2))\n",
        "for i in list2:\n",
        "  print(i,end = \" \")"
      ]
    },
    {
      "cell_type": "markdown",
      "source": [
        "Q2.ANUSHKA’S PROBLEM\n",
        "\n",
        "Anuska has created a robot that will take instructions and work accordingly. Due to budget problem, she has set the memory low. To overcome that, she has to encode the instruction. Given the instruction S, count the consecutive characters and each character will be folowed by its frequency.\n",
        "For example, if the instruction is \"aaaabb\", the encoded instruction is \"a4b2\".\n",
        "\n",
        "Note: If the frequency is one, the count need not be printed.\n",
        "\n",
        "Input format:\n",
        "\n",
        "The first input is a string that denotes the instruction, S.\n",
        "\n",
        "Output format:\n",
        "\n",
        "Output is a string that denotes the encoded string.\n",
        "\n",
        "Sample input 1:\n",
        "\n",
        "aaaabb\n",
        "\n",
        "Sample output 1:\n",
        "\n",
        "a4b2\n",
        "\n",
        "Sample input 2:\n",
        "\n",
        "sggvvvgss\n",
        "\n",
        "Sample output 2:\n",
        "\n",
        "sg2v3gs2"
      ],
      "metadata": {
        "id": "73D91D_kQWsP"
      }
    },
    {
      "cell_type": "code",
      "source": [
        "def func1(s) :\n",
        "  i=0\n",
        "  while(i<len(s)-1):\n",
        "    count=1\n",
        "    while s[i] == s[i+1]:\n",
        "        i += 1\n",
        "        count += 1\n",
        "        if i + 1 == len(s):\n",
        "            break\n",
        "    print(str(s[i]),end = \"\")\n",
        "    if count!=1:    \n",
        "        print(str(count),end=\"\")\n",
        "    i += 1\n",
        "  print()\n",
        "if __name__ == \"__main__\" :\n",
        "  func1(input(\"Enter a string:\"))"
      ],
      "metadata": {
        "id": "52LLTC-0oQLw",
        "colab": {
          "base_uri": "https://localhost:8080/"
        },
        "outputId": "64c1fd49-e5b5-456c-fa7c-d4bf42fa5570"
      },
      "execution_count": 11,
      "outputs": [
        {
          "output_type": "stream",
          "name": "stdout",
          "text": [
            "Enter a string:sggvvvgss\n",
            "sg2v3gs2\n"
          ]
        }
      ]
    },
    {
      "cell_type": "markdown",
      "source": [
        "``` Q3.SKILL TESTING Amar's team is assigned with a project that deals with the digital signals. He is aware that the digital signals will be represented as arrays. He wants to test his team with respect to their strength in arrays.As part of the skill testing, the task is as follows. You are given an array of integers of size N. Consider all its contiguous subarrays of length k and find the maximum sum. Do this for all k from 1 to the length of the input array. Write a program to evaluate the task done by the kids.\n",
        "\n",
        "\n",
        "Input format: The first line contains a single integer denotes the size of the array, N. The second line contains N-space separated integer that corresponds to the values of the array.\n",
        "\n",
        "Output format: The output consists of N-space separated integer values of the result array.\n",
        "\n",
        "Sample Input 1: 5 -1 2 1 3 -2\n",
        "\n",
        "Sample Output 1: 3 4 6 5 3\n",
        "\n",
        "Explanation: For inputArray = [-1, 2, 1, 3, -2], the output should be [3, 2, 1, 0, 0]. The contiguous subarray of K = 1, each subarray will have 1 element. The sub-array with maximum sum is [3]. So result[0] = 3. of K = 2, each subarray will have 2 elements. The sub-array with maximum sum is [1,3]. So result[1] = 4. of K = 3, each subarray will have 3 elements. The sub-array with maximum sum is [2,1,3]. So result[2] = 6. of K = 4, each subarray will have 4 elements. The sub-array with maximum sum is [-1,2,1,3]. So result[1] = 5. of K = 5, each subarray will have 5 elements. The sub-array with maximum sum is [-1,2,1,3,-2]. So result[1] = 3. So the result array is [3, 4, 6, 5, 3].\n",
        "\n",
        "Sample Input 2: 5 2 3 2 -2 3 \n",
        "\n",
        "Sample Output 2: 3 5 7 6 8"
      ],
      "metadata": {
        "id": "x5f1Sas5ohDF"
      }
    },
    {
      "cell_type": "code",
      "source": [
        ""
      ],
      "metadata": {
        "id": "dDBodH77o47P"
      },
      "execution_count": null,
      "outputs": []
    }
  ]
}